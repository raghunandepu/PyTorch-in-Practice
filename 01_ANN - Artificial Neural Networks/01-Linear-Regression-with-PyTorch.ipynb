{
 "cells": [
  {
   "cell_type": "code",
   "execution_count": 58,
   "metadata": {},
   "outputs": [],
   "source": [
    "import torch\n",
    "import numpy as np\n",
    "import matplotlib.pyplot as plt\n",
    "%matplotlib inline"
   ]
  },
  {
   "cell_type": "code",
   "execution_count": 59,
   "metadata": {},
   "outputs": [],
   "source": [
    "import torch.nn as nn"
   ]
  },
  {
   "cell_type": "code",
   "execution_count": 60,
   "metadata": {},
   "outputs": [
    {
     "data": {
      "text/plain": [
       "torch.Size([50, 1])"
      ]
     },
     "execution_count": 60,
     "metadata": {},
     "output_type": "execute_result"
    }
   ],
   "source": [
    "# Create a column matrix of X values\n",
    "X = torch.linspace(1,50,50).reshape(-1,1)\n",
    "X.shape"
   ]
  },
  {
   "cell_type": "code",
   "execution_count": 61,
   "metadata": {},
   "outputs": [
    {
     "data": {
      "text/plain": [
       "tensor([[ 2.],\n",
       "        [ 7.],\n",
       "        [ 2.],\n",
       "        [ 6.],\n",
       "        [ 2.],\n",
       "        [-4.],\n",
       "        [ 2.],\n",
       "        [-5.],\n",
       "        [ 4.],\n",
       "        [ 1.],\n",
       "        [ 2.],\n",
       "        [ 3.],\n",
       "        [ 1.],\n",
       "        [-8.],\n",
       "        [ 5.],\n",
       "        [ 5.],\n",
       "        [-6.],\n",
       "        [ 0.],\n",
       "        [-7.],\n",
       "        [-8.],\n",
       "        [-3.],\n",
       "        [-1.],\n",
       "        [ 2.],\n",
       "        [-6.],\n",
       "        [-3.],\n",
       "        [ 3.],\n",
       "        [ 2.],\n",
       "        [ 3.],\n",
       "        [ 4.],\n",
       "        [ 5.],\n",
       "        [ 1.],\n",
       "        [ 7.],\n",
       "        [ 6.],\n",
       "        [-1.],\n",
       "        [-6.],\n",
       "        [-5.],\n",
       "        [-3.],\n",
       "        [ 7.],\n",
       "        [ 0.],\n",
       "        [ 8.],\n",
       "        [-1.],\n",
       "        [-2.],\n",
       "        [ 2.],\n",
       "        [-8.],\n",
       "        [-1.],\n",
       "        [ 6.],\n",
       "        [-8.],\n",
       "        [-3.],\n",
       "        [-7.],\n",
       "        [-2.]])"
      ]
     },
     "execution_count": 61,
     "metadata": {},
     "output_type": "execute_result"
    }
   ],
   "source": [
    "# Create a \"random\" array of error values\n",
    "torch.manual_seed(71)\n",
    "e = torch.randint(-8,9,(50,1), dtype=torch.float)\n",
    "e"
   ]
  },
  {
   "cell_type": "code",
   "execution_count": 62,
   "metadata": {},
   "outputs": [
    {
     "data": {
      "text/plain": [
       "torch.Size([50, 1])"
      ]
     },
     "execution_count": 62,
     "metadata": {},
     "output_type": "execute_result"
    }
   ],
   "source": [
    "# Create a column matrix of y values\n",
    "y = 2*X + 1 + e\n",
    "y.shape"
   ]
  },
  {
   "cell_type": "code",
   "execution_count": 63,
   "metadata": {},
   "outputs": [
    {
     "data": {
      "text/plain": [
       "Text(0.5, 0, 'x')"
      ]
     },
     "execution_count": 63,
     "metadata": {},
     "output_type": "execute_result"
    },
    {
     "data": {
      "image/png": "[encoded data removed]",
      "text/plain": [
       "<Figure size 432x288 with 1 Axes>"
      ]
     },
     "metadata": {
      "needs_background": "light"
     },
     "output_type": "display_data"
    }
   ],
   "source": [
    "# Plot the results\n",
    "# We need to convert tensors to numpy arrays for plotting\n",
    "plt.scatter(X.numpy(), y.numpy())\n",
    "plt.ylabel('y')\n",
    "plt.xlabel('x')"
   ]
  },
  {
   "cell_type": "markdown",
   "metadata": {},
   "source": [
    "Note that when we created tensor $X$, we did <em>not</em> pass <tt>requires_grad=True</tt>. This means that $y$ doesn't have a gradient function, and <tt>y.backward()</tt> won't work. Since PyTorch is not tracking operations, it doesn't know the relationship between $X$ and $y$."
   ]
  },
  {
   "cell_type": "markdown",
   "metadata": {},
   "source": [
    "## Simple Linear Model"
   ]
  },
  {
   "cell_type": "code",
   "execution_count": 64,
   "metadata": {},
   "outputs": [
    {
     "name": "stdout",
     "output_type": "stream",
     "text": [
      "Parameter containing:\n",
      "tensor([[0.1060]], requires_grad=True)\n",
      "Parameter containing:\n",
      "tensor([0.9638], requires_grad=True)\n"
     ]
    }
   ],
   "source": [
    "torch.manual_seed(59)\n",
    "\n",
    "model = nn.Linear(in_features=1, out_features=1)\n",
    "print(model.weight)\n",
    "print(model.bias)"
   ]
  },
  {
   "cell_type": "markdown",
   "metadata": {},
   "source": [
    "Without seeing any data, the model sets a random weight of 0.1060 and a bias of 0.9638."
   ]
  },
  {
   "cell_type": "markdown",
   "metadata": {},
   "source": [
    "## Model Classes"
   ]
  },
  {
   "cell_type": "code",
   "execution_count": 65,
   "metadata": {},
   "outputs": [],
   "source": [
    "class Model(nn.Module):\n",
    "    def __init__(self, in_features, out_features):\n",
    "        super().__init__()\n",
    "        \n",
    "        # fully connected layer but does not refer to linear regression.\n",
    "        self.linear = nn.Linear(in_features, out_features)  \n",
    "        \n",
    "    def forward(self, x):\n",
    "        y_pred = self.linear(x)\n",
    "        return y_pred"
   ]
  },
  {
   "cell_type": "markdown",
   "metadata": {},
   "source": [
    "When <tt>Model</tt> is instantiated, we need to pass in the size (dimensions) of the incoming and outgoing features. For our purposes we'll use (1,1).<br>As above, we can see the initial hyperparameters."
   ]
  },
  {
   "cell_type": "code",
   "execution_count": 66,
   "metadata": {},
   "outputs": [
    {
     "name": "stdout",
     "output_type": "stream",
     "text": [
      "Model(\n",
      "  (linear): Linear(in_features=1, out_features=1, bias=True)\n",
      ")\n",
      "Weight: 0.10597813129425049\n",
      "Bias: 0.9637961387634277\n"
     ]
    }
   ],
   "source": [
    "torch.manual_seed(59)\n",
    "model = Model(1, 1)\n",
    "print(model)\n",
    "\n",
    "# Weight and bias of linear layer\n",
    "print('Weight:', model.linear.weight.item())\n",
    "print('Bias:', model.linear.bias.item())"
   ]
  },
  {
   "cell_type": "code",
   "execution_count": 67,
   "metadata": {},
   "outputs": [
    {
     "name": "stdout",
     "output_type": "stream",
     "text": [
      "linear.weight \t 0.10597813129425049\n",
      "linear.bias \t 0.9637961387634277\n"
     ]
    }
   ],
   "source": [
    "# When there are more parameters, use this.\n",
    "for name, param in model.named_parameters():\n",
    "    print(name, '\\t', param.item())"
   ]
  },
  {
   "cell_type": "code",
   "execution_count": 68,
   "metadata": {},
   "outputs": [
    {
     "name": "stdout",
     "output_type": "stream",
     "text": [
      "tensor([1.1758], grad_fn=<AddBackward0>)\n"
     ]
    }
   ],
   "source": [
    "# Let's the results when we pass tensor into the model\n",
    "x = torch.tensor([2.0])\n",
    "print(model.forward(x))"
   ]
  },
  {
   "cell_type": "markdown",
   "metadata": {},
   "source": [
    "### Plot the initial model"
   ]
  },
  {
   "cell_type": "code",
   "execution_count": 69,
   "metadata": {},
   "outputs": [
    {
     "data": {
      "text/plain": [
       "array([ 0.        ,  1.02040816,  2.04081633,  3.06122449,  4.08163265,\n",
       "        5.10204082,  6.12244898,  7.14285714,  8.16326531,  9.18367347,\n",
       "       10.20408163, 11.2244898 , 12.24489796, 13.26530612, 14.28571429,\n",
       "       15.30612245, 16.32653061, 17.34693878, 18.36734694, 19.3877551 ,\n",
       "       20.40816327, 21.42857143, 22.44897959, 23.46938776, 24.48979592,\n",
       "       25.51020408, 26.53061224, 27.55102041, 28.57142857, 29.59183673,\n",
       "       30.6122449 , 31.63265306, 32.65306122, 33.67346939, 34.69387755,\n",
       "       35.71428571, 36.73469388, 37.75510204, 38.7755102 , 39.79591837,\n",
       "       40.81632653, 41.83673469, 42.85714286, 43.87755102, 44.89795918,\n",
       "       45.91836735, 46.93877551, 47.95918367, 48.97959184, 50.        ])"
      ]
     },
     "execution_count": 69,
     "metadata": {},
     "output_type": "execute_result"
    }
   ],
   "source": [
    "x1 = np.linspace(0, 50.0, 50)\n",
    "x1"
   ]
  },
  {
   "cell_type": "code",
   "execution_count": 70,
   "metadata": {},
   "outputs": [
    {
     "data": {
      "text/plain": [
       "array([0.9637    , 1.07176122, 1.17982245, 1.28788367, 1.3959449 ,\n",
       "       1.50400612, 1.61206735, 1.72012857, 1.8281898 , 1.93625102,\n",
       "       2.04431224, 2.15237347, 2.26043469, 2.36849592, 2.47655714,\n",
       "       2.58461837, 2.69267959, 2.80074082, 2.90880204, 3.01686327,\n",
       "       3.12492449, 3.23298571, 3.34104694, 3.44910816, 3.55716939,\n",
       "       3.66523061, 3.77329184, 3.88135306, 3.98941429, 4.09747551,\n",
       "       4.20553673, 4.31359796, 4.42165918, 4.52972041, 4.63778163,\n",
       "       4.74584286, 4.85390408, 4.96196531, 5.07002653, 5.17808776,\n",
       "       5.28614898, 5.3942102 , 5.50227143, 5.61033265, 5.71839388,\n",
       "       5.8264551 , 5.93451633, 6.04257755, 6.15063878, 6.2587    ])"
      ]
     },
     "execution_count": 70,
     "metadata": {},
     "output_type": "execute_result"
    }
   ],
   "source": [
    "w1 = 0.1059\n",
    "b1 = 0.9637\n",
    "\n",
    "y1 = w1*x1 + b1\n",
    "y1"
   ]
  },
  {
   "cell_type": "code",
   "execution_count": 71,
   "metadata": {},
   "outputs": [
    {
     "data": {
      "text/plain": [
       "[<matplotlib.lines.Line2D at 0x7f977453aa20>]"
      ]
     },
     "execution_count": 71,
     "metadata": {},
     "output_type": "execute_result"
    },
    {
     "data": {
      "image/png": "[encoded data removed]",
      "text/plain": [
       "<Figure size 432x288 with 1 Axes>"
      ]
     },
     "metadata": {
      "needs_background": "light"
     },
     "output_type": "display_data"
    }
   ],
   "source": [
    "# real points\n",
    "plt.scatter(X.numpy(), y.numpy())\n",
    "plt.ylabel('y')\n",
    "plt.xlabel('x')\n",
    "\n",
    "# predicted points\n",
    "plt.plot(x1, y1, 'r')"
   ]
  },
  {
   "cell_type": "code",
   "execution_count": 72,
   "metadata": {},
   "outputs": [],
   "source": [
    "# Set the loss function\n",
    "criterion = nn.MSELoss()"
   ]
  },
  {
   "cell_type": "code",
   "execution_count": 73,
   "metadata": {},
   "outputs": [],
   "source": [
    "# Set the optimization\n",
    "optimizer = torch.optim.SGD(model.parameters(), lr = 0.001)"
   ]
  },
  {
   "cell_type": "markdown",
   "metadata": {},
   "source": [
    "### Train the model"
   ]
  },
  {
   "cell_type": "code",
   "execution_count": 84,
   "metadata": {},
   "outputs": [
    {
     "name": "stdout",
     "output_type": "stream",
     "text": [
      "epoch  1 loss: 20.98680878     weight: 1.98075056 bias: 1.15903306\n",
      "epoch  2 loss: 20.98636818     weight: 1.98073113 bias: 1.15969670\n",
      "epoch  3 loss: 20.98592567     weight: 1.98071122 bias: 1.16035998\n",
      "epoch  4 loss: 20.98548889     weight: 1.98069167 bias: 1.16102302\n",
      "epoch  5 loss: 20.98505020     weight: 1.98067176 bias: 1.16168571\n",
      "epoch  6 loss: 20.98460960     weight: 1.98065245 bias: 1.16234803\n",
      "epoch  7 loss: 20.98416901     weight: 1.98063242 bias: 1.16301012\n",
      "epoch  8 loss: 20.98373604     weight: 1.98061311 bias: 1.16367185\n",
      "epoch  9 loss: 20.98329353     weight: 1.98059309 bias: 1.16433322\n",
      "epoch 10 loss: 20.98285675     weight: 1.98057389 bias: 1.16499436\n",
      "epoch 11 loss: 20.98242569     weight: 1.98055387 bias: 1.16565514\n",
      "epoch 12 loss: 20.98198700     weight: 1.98053443 bias: 1.16631556\n",
      "epoch 13 loss: 20.98155022     weight: 1.98051476 bias: 1.16697562\n",
      "epoch 14 loss: 20.98111343     weight: 1.98049510 bias: 1.16763544\n",
      "epoch 15 loss: 20.98068237     weight: 1.98047566 bias: 1.16829491\n",
      "epoch 16 loss: 20.98024559     weight: 1.98045588 bias: 1.16895401\n",
      "epoch 17 loss: 20.97981262     weight: 1.98043656 bias: 1.16961288\n",
      "epoch 18 loss: 20.97937393     weight: 1.98041677 bias: 1.17027140\n",
      "epoch 19 loss: 20.97893906     weight: 1.98039722 bias: 1.17092955\n",
      "epoch 20 loss: 20.97850800     weight: 1.98037779 bias: 1.17158747\n",
      "epoch 21 loss: 20.97807693     weight: 1.98035824 bias: 1.17224503\n",
      "epoch 22 loss: 20.97764206     weight: 1.98033857 bias: 1.17290223\n",
      "epoch 23 loss: 20.97721100     weight: 1.98031914 bias: 1.17355919\n",
      "epoch 24 loss: 20.97678375     weight: 1.98029959 bias: 1.17421579\n",
      "epoch 25 loss: 20.97634888     weight: 1.98028016 bias: 1.17487204\n",
      "epoch 26 loss: 20.97591782     weight: 1.98026061 bias: 1.17552805\n",
      "epoch 27 loss: 20.97548676     weight: 1.98024118 bias: 1.17618370\n",
      "epoch 28 loss: 20.97505951     weight: 1.98022163 bias: 1.17683899\n",
      "epoch 29 loss: 20.97463226     weight: 1.98020220 bias: 1.17749405\n",
      "epoch 30 loss: 20.97420120     weight: 1.98018289 bias: 1.17814875\n",
      "epoch 31 loss: 20.97377014     weight: 1.98016334 bias: 1.17880309\n",
      "epoch 32 loss: 20.97334862     weight: 1.98014390 bias: 1.17945719\n",
      "epoch 33 loss: 20.97291756     weight: 1.98012447 bias: 1.18011093\n",
      "epoch 34 loss: 20.97248459     weight: 1.98010504 bias: 1.18076432\n",
      "epoch 35 loss: 20.97206306     weight: 1.98008573 bias: 1.18141747\n",
      "epoch 36 loss: 20.97163200     weight: 1.98006618 bias: 1.18207026\n",
      "epoch 37 loss: 20.97120857     weight: 1.98004699 bias: 1.18272269\n",
      "epoch 38 loss: 20.97078705     weight: 1.98002744 bias: 1.18337488\n",
      "epoch 39 loss: 20.97036171     weight: 1.98000824 bias: 1.18402672\n",
      "epoch 40 loss: 20.96993065     weight: 1.97998869 bias: 1.18467820\n",
      "epoch 41 loss: 20.96951103     weight: 1.97996950 bias: 1.18532944\n",
      "epoch 42 loss: 20.96908951     weight: 1.97995007 bias: 1.18598032\n",
      "epoch 43 loss: 20.96866226     weight: 1.97993064 bias: 1.18663085\n",
      "epoch 44 loss: 20.96823883     weight: 1.97991157 bias: 1.18728113\n",
      "epoch 45 loss: 20.96782303     weight: 1.97989213 bias: 1.18793106\n",
      "epoch 46 loss: 20.96739578     weight: 1.97987282 bias: 1.18858075\n",
      "epoch 47 loss: 20.96697426     weight: 1.97985351 bias: 1.18923008\n",
      "epoch 48 loss: 20.96655464     weight: 1.97983420 bias: 1.18987906\n",
      "epoch 49 loss: 20.96613312     weight: 1.97981501 bias: 1.19052780\n",
      "epoch 50 loss: 20.96570778     weight: 1.97979569 bias: 1.19117618\n"
     ]
    }
   ],
   "source": [
    "epochs = 50\n",
    "losses = []\n",
    "\n",
    "for i in range(epochs):\n",
    "    i += 1\n",
    "    \n",
    "    # Predicted on the forward pass\n",
    "    y_pred = model.forward(X)\n",
    "    \n",
    "    # calculate loss\n",
    "    loss = criterion(y_pred, y)\n",
    "    \n",
    "    # Record that error\n",
    "    losses.append(loss)\n",
    "    \n",
    "    print(f\"epoch {i:2} loss: {loss.item():10.8f} \\\n",
    "    weight: {model.linear.weight.item():10.8f} bias: {model.linear.bias.item():10.8f}\")\n",
    "     \n",
    "    # Reset the gradients for each new epoch\n",
    "    # Gradients accumulate with every backprop. \n",
    "    # To prevent compounding we need to reset the stored gradient for each new epoch.\n",
    "    optimizer.zero_grad()  \n",
    "          \n",
    "    # backprop\n",
    "    loss.backward()\n",
    "       \n",
    "    # updates the hyperparameters\n",
    "    optimizer.step()\n",
    "    "
   ]
  },
  {
   "cell_type": "code",
   "execution_count": 75,
   "metadata": {},
   "outputs": [
    {
     "data": {
      "text/plain": [
       "Text(0.5, 0, 'Epoch')"
      ]
     },
     "execution_count": 75,
     "metadata": {},
     "output_type": "execute_result"
    },
    {
     "data": {
      "image/png": "[encoded data removed]",
      "text/plain": [
       "<Figure size 432x288 with 1 Axes>"
      ]
     },
     "metadata": {
      "needs_background": "light"
     },
     "output_type": "display_data"
    }
   ],
   "source": [
    "plt.plot(range(epochs), losses)\n",
    "plt.ylabel('MSE Loss')\n",
    "plt.xlabel('Epoch')"
   ]
  },
  {
   "cell_type": "markdown",
   "metadata": {},
   "source": [
    "## Plot the result"
   ]
  },
  {
   "cell_type": "code",
   "execution_count": 78,
   "metadata": {},
   "outputs": [
    {
     "name": "stdout",
     "output_type": "stream",
     "text": [
      "Current weight: 1.98381913, Current bias: 1.05575156\n",
      "\n"
     ]
    }
   ],
   "source": [
    "w1,b1 = model.linear.weight.item(), model.linear.bias.item()\n",
    "print(f'Current weight: {w1:.8f}, Current bias: {b1:.8f}')\n",
    "print()"
   ]
  },
  {
   "cell_type": "code",
   "execution_count": 76,
   "metadata": {},
   "outputs": [
    {
     "data": {
      "text/plain": [
       "tensor([[  3.0396],\n",
       "        [  5.0234],\n",
       "        [  7.0072],\n",
       "        [  8.9910],\n",
       "        [ 10.9748],\n",
       "        [ 12.9587],\n",
       "        [ 14.9425],\n",
       "        [ 16.9263],\n",
       "        [ 18.9101],\n",
       "        [ 20.8939],\n",
       "        [ 22.8778],\n",
       "        [ 24.8616],\n",
       "        [ 26.8454],\n",
       "        [ 28.8292],\n",
       "        [ 30.8130],\n",
       "        [ 32.7969],\n",
       "        [ 34.7807],\n",
       "        [ 36.7645],\n",
       "        [ 38.7483],\n",
       "        [ 40.7321],\n",
       "        [ 42.7160],\n",
       "        [ 44.6998],\n",
       "        [ 46.6836],\n",
       "        [ 48.6674],\n",
       "        [ 50.6512],\n",
       "        [ 52.6350],\n",
       "        [ 54.6189],\n",
       "        [ 56.6027],\n",
       "        [ 58.5865],\n",
       "        [ 60.5703],\n",
       "        [ 62.5541],\n",
       "        [ 64.5380],\n",
       "        [ 66.5218],\n",
       "        [ 68.5056],\n",
       "        [ 70.4894],\n",
       "        [ 72.4732],\n",
       "        [ 74.4571],\n",
       "        [ 76.4409],\n",
       "        [ 78.4247],\n",
       "        [ 80.4085],\n",
       "        [ 82.3923],\n",
       "        [ 84.3762],\n",
       "        [ 86.3600],\n",
       "        [ 88.3438],\n",
       "        [ 90.3276],\n",
       "        [ 92.3114],\n",
       "        [ 94.2952],\n",
       "        [ 96.2791],\n",
       "        [ 98.2629],\n",
       "        [100.2467]])"
      ]
     },
     "execution_count": 76,
     "metadata": {},
     "output_type": "execute_result"
    }
   ],
   "source": [
    "x = np.linspace(0, 50.0, 50)\n",
    "current_weight = model.linear.weight.item()\n",
    "current_bias = model.linear.bias.item()\n",
    "\n",
    "predicted_y = current_weight*X + current_bias\n",
    "predicted_y"
   ]
  },
  {
   "cell_type": "code",
   "execution_count": 80,
   "metadata": {},
   "outputs": [
    {
     "data": {
      "text/plain": [
       "[<matplotlib.lines.Line2D at 0x7f9775ad9e80>]"
      ]
     },
     "execution_count": 80,
     "metadata": {},
     "output_type": "execute_result"
    },
    {
     "data": {
      "image/png": "[encoded data removed]",
      "text/plain": [
       "<Figure size 432x288 with 1 Axes>"
      ]
     },
     "metadata": {
      "needs_background": "light"
     },
     "output_type": "display_data"
    }
   ],
   "source": [
    "plt.scatter(X.numpy(), y.numpy())\n",
    "plt.plot(x, predicted_y.numpy(), 'r')"
   ]
  },
  {
   "cell_type": "markdown",
   "metadata": {},
   "source": [
    "## Great job"
   ]
  }
 ],
 "metadata": {
  "kernelspec": {
   "display_name": "Python 3",
   "language": "python",
   "name": "python3"
  },
  "language_info": {
   "codemirror_mode": {
    "name": "ipython",
    "version": 3
   },
   "file_extension": ".py",
   "mimetype": "text/x-python",
   "name": "python",
   "nbconvert_exporter": "python",
   "pygments_lexer": "ipython3",
   "version": "3.7.3"
  }
 },
 "nbformat": 4,
 "nbformat_minor": 4
}
